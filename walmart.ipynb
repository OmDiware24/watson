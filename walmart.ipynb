{
    "metadata": {
        "kernelspec": {
            "name": "python3",
            "display_name": "Python 3.11",
            "language": "python"
        },
        "language_info": {
            "name": "python",
            "version": "3.11.9",
            "mimetype": "text/x-python",
            "codemirror_mode": {
                "name": "ipython",
                "version": 3
            },
            "pygments_lexer": "ipython3",
            "nbconvert_exporter": "python",
            "file_extension": ".py"
        }
    },
    "nbformat_minor": 4,
    "nbformat": 4,
    "cells": [
        {
            "cell_type": "code",
            "source": "print(\"hello\")\n",
            "metadata": {
                "id": "843cffb2-fbf3-471c-ba3e-66f989e00d4a"
            },
            "outputs": [
                {
                    "name": "stdout",
                    "text": "hello\n",
                    "output_type": "stream"
                }
            ],
            "execution_count": 1
        },
        {
            "cell_type": "code",
            "source": "",
            "metadata": {
                "id": "3378a4ef-7031-4933-9466-562e5204cfbb"
            },
            "outputs": [],
            "execution_count": null
        }
    ]
}